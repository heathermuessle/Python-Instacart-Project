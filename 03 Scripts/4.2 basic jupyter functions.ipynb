{
 "cells": [
  {
   "cell_type": "markdown",
   "id": "1f1d62e7",
   "metadata": {},
   "source": [
    "## 01 Importing Libraries"
   ]
  },
  {
   "cell_type": "markdown",
   "id": "38cf60fc",
   "metadata": {},
   "source": [
    "#importing the libraries installed in exercise"
   ]
  },
  {
   "cell_type": "code",
   "execution_count": 7,
   "id": "a7b2ef6d",
   "metadata": {},
   "outputs": [],
   "source": [
    "# import libraries\n",
    "import pandas as pd\n",
    "import numpy as np\n",
    "import os"
   ]
  },
  {
   "cell_type": "markdown",
   "id": "741e420c",
   "metadata": {},
   "source": [
    "#data type practice"
   ]
  },
  {
   "cell_type": "code",
   "execution_count": 8,
   "id": "1cff3323",
   "metadata": {},
   "outputs": [
    {
     "data": {
      "text/plain": [
       "100"
      ]
     },
     "execution_count": 8,
     "metadata": {},
     "output_type": "execute_result"
    }
   ],
   "source": [
    "50 * 2"
   ]
  },
  {
   "cell_type": "code",
   "execution_count": 9,
   "id": "cefd88e8",
   "metadata": {},
   "outputs": [
    {
     "data": {
      "text/plain": [
       "100"
      ]
     },
     "execution_count": 9,
     "metadata": {},
     "output_type": "execute_result"
    }
   ],
   "source": [
    "33 + 67"
   ]
  },
  {
   "cell_type": "code",
   "execution_count": 11,
   "id": "b36e1bd7",
   "metadata": {},
   "outputs": [
    {
     "data": {
      "text/plain": [
       "100"
      ]
     },
     "execution_count": 11,
     "metadata": {},
     "output_type": "execute_result"
    }
   ],
   "source": [
    "200 - 50 - 50"
   ]
  },
  {
   "cell_type": "code",
   "execution_count": 14,
   "id": "37e234dc",
   "metadata": {},
   "outputs": [],
   "source": [
    "x = 45.45\n",
    "y = 15.15"
   ]
  },
  {
   "cell_type": "code",
   "execution_count": 15,
   "id": "ff8bae0f",
   "metadata": {},
   "outputs": [
    {
     "data": {
      "text/plain": [
       "3.0"
      ]
     },
     "execution_count": 15,
     "metadata": {},
     "output_type": "execute_result"
    }
   ],
   "source": [
    "x/y"
   ]
  },
  {
   "cell_type": "code",
   "execution_count": 16,
   "id": "cc5925ae",
   "metadata": {},
   "outputs": [],
   "source": [
    "a = 'E'\n",
    "b = 'A'\n",
    "c = 'G'\n",
    "d = 'L'\n",
    "e = 'S'"
   ]
  },
  {
   "cell_type": "code",
   "execution_count": 17,
   "id": "60bd422f",
   "metadata": {},
   "outputs": [
    {
     "data": {
      "text/plain": [
       "'EAGLES'"
      ]
     },
     "execution_count": 17,
     "metadata": {},
     "output_type": "execute_result"
    }
   ],
   "source": [
    "a + b + c + d + a + e"
   ]
  },
  {
   "cell_type": "code",
   "execution_count": 20,
   "id": "e6a55ea2",
   "metadata": {},
   "outputs": [],
   "source": [
    "#need to put spaces at the end to make a sentence\n",
    "f = 'My anaconda '\n",
    "g = 'dont want none '\n",
    "h = 'unless youve got buns hon'"
   ]
  },
  {
   "cell_type": "code",
   "execution_count": 21,
   "id": "fb9b7a47",
   "metadata": {},
   "outputs": [
    {
     "data": {
      "text/plain": [
       "'My anaconda dont want none unless youve got buns hon'"
      ]
     },
     "execution_count": 21,
     "metadata": {},
     "output_type": "execute_result"
    }
   ],
   "source": [
    "f + g + h"
   ]
  },
  {
   "cell_type": "code",
   "execution_count": 33,
   "id": "236d3c28",
   "metadata": {},
   "outputs": [],
   "source": [
    "i = 'fly eagles fly '\n",
    "j = 'on the road to victory '\n",
    "k = 'score a touchdown 1 2 3 '"
   ]
  },
  {
   "cell_type": "code",
   "execution_count": 26,
   "id": "6eb60806",
   "metadata": {},
   "outputs": [
    {
     "data": {
      "text/plain": [
       "'fly eagles fly on the road to victory fly eagles fly score a touchdown 1 2 3'"
      ]
     },
     "execution_count": 26,
     "metadata": {},
     "output_type": "execute_result"
    }
   ],
   "source": [
    "i + j + i + k"
   ]
  },
  {
   "cell_type": "code",
   "execution_count": 37,
   "id": "29c561c5",
   "metadata": {},
   "outputs": [],
   "source": [
    "l = 'hit em low '\n",
    "m = 'hit em high '\n",
    "n = 'and watch our eagles fly '\n",
    "o = 'E-A-G-L-E-S '"
   ]
  },
  {
   "cell_type": "code",
   "execution_count": 38,
   "id": "38d242a4",
   "metadata": {},
   "outputs": [
    {
     "data": {
      "text/plain": [
       "'fly eagles fly on the road to victory fly eagles fly score a touchdown 1 2 3 hit em low hit em high and watch our eagles fly fly eagles fly score a touchdown 1 2 3 E-A-G-L-E-S EAGLES'"
      ]
     },
     "execution_count": 38,
     "metadata": {},
     "output_type": "execute_result"
    }
   ],
   "source": [
    "i + j + i + k + l + m + n + i + k + o + a + b + c + d + a + e"
   ]
  },
  {
   "cell_type": "code",
   "execution_count": 39,
   "id": "85605a64",
   "metadata": {},
   "outputs": [],
   "source": [
    "z = i + j + i + k + l + m + n + i + k + o + a + b + c + d + a + e"
   ]
  },
  {
   "cell_type": "code",
   "execution_count": 40,
   "id": "59a1aa05",
   "metadata": {},
   "outputs": [
    {
     "data": {
      "text/plain": [
       "'fly eagles fly on the road to victory fly eagles fly score a touchdown 1 2 3 hit em low hit em high and watch our eagles fly fly eagles fly score a touchdown 1 2 3 E-A-G-L-E-S EAGLESfly eagles fly on the road to victory fly eagles fly score a touchdown 1 2 3 hit em low hit em high and watch our eagles fly fly eagles fly score a touchdown 1 2 3 E-A-G-L-E-S EAGLESfly eagles fly on the road to victory fly eagles fly score a touchdown 1 2 3 hit em low hit em high and watch our eagles fly fly eagles fly score a touchdown 1 2 3 E-A-G-L-E-S EAGLESfly eagles fly on the road to victory fly eagles fly score a touchdown 1 2 3 hit em low hit em high and watch our eagles fly fly eagles fly score a touchdown 1 2 3 E-A-G-L-E-S EAGLESfly eagles fly on the road to victory fly eagles fly score a touchdown 1 2 3 hit em low hit em high and watch our eagles fly fly eagles fly score a touchdown 1 2 3 E-A-G-L-E-S EAGLESfly eagles fly on the road to victory fly eagles fly score a touchdown 1 2 3 hit em low hit em high and watch our eagles fly fly eagles fly score a touchdown 1 2 3 E-A-G-L-E-S EAGLESfly eagles fly on the road to victory fly eagles fly score a touchdown 1 2 3 hit em low hit em high and watch our eagles fly fly eagles fly score a touchdown 1 2 3 E-A-G-L-E-S EAGLESfly eagles fly on the road to victory fly eagles fly score a touchdown 1 2 3 hit em low hit em high and watch our eagles fly fly eagles fly score a touchdown 1 2 3 E-A-G-L-E-S EAGLESfly eagles fly on the road to victory fly eagles fly score a touchdown 1 2 3 hit em low hit em high and watch our eagles fly fly eagles fly score a touchdown 1 2 3 E-A-G-L-E-S EAGLESfly eagles fly on the road to victory fly eagles fly score a touchdown 1 2 3 hit em low hit em high and watch our eagles fly fly eagles fly score a touchdown 1 2 3 E-A-G-L-E-S EAGLESfly eagles fly on the road to victory fly eagles fly score a touchdown 1 2 3 hit em low hit em high and watch our eagles fly fly eagles fly score a touchdown 1 2 3 E-A-G-L-E-S EAGLESfly eagles fly on the road to victory fly eagles fly score a touchdown 1 2 3 hit em low hit em high and watch our eagles fly fly eagles fly score a touchdown 1 2 3 E-A-G-L-E-S EAGLESfly eagles fly on the road to victory fly eagles fly score a touchdown 1 2 3 hit em low hit em high and watch our eagles fly fly eagles fly score a touchdown 1 2 3 E-A-G-L-E-S EAGLESfly eagles fly on the road to victory fly eagles fly score a touchdown 1 2 3 hit em low hit em high and watch our eagles fly fly eagles fly score a touchdown 1 2 3 E-A-G-L-E-S EAGLESfly eagles fly on the road to victory fly eagles fly score a touchdown 1 2 3 hit em low hit em high and watch our eagles fly fly eagles fly score a touchdown 1 2 3 E-A-G-L-E-S EAGLESfly eagles fly on the road to victory fly eagles fly score a touchdown 1 2 3 hit em low hit em high and watch our eagles fly fly eagles fly score a touchdown 1 2 3 E-A-G-L-E-S EAGLESfly eagles fly on the road to victory fly eagles fly score a touchdown 1 2 3 hit em low hit em high and watch our eagles fly fly eagles fly score a touchdown 1 2 3 E-A-G-L-E-S EAGLESfly eagles fly on the road to victory fly eagles fly score a touchdown 1 2 3 hit em low hit em high and watch our eagles fly fly eagles fly score a touchdown 1 2 3 E-A-G-L-E-S EAGLESfly eagles fly on the road to victory fly eagles fly score a touchdown 1 2 3 hit em low hit em high and watch our eagles fly fly eagles fly score a touchdown 1 2 3 E-A-G-L-E-S EAGLESfly eagles fly on the road to victory fly eagles fly score a touchdown 1 2 3 hit em low hit em high and watch our eagles fly fly eagles fly score a touchdown 1 2 3 E-A-G-L-E-S EAGLESfly eagles fly on the road to victory fly eagles fly score a touchdown 1 2 3 hit em low hit em high and watch our eagles fly fly eagles fly score a touchdown 1 2 3 E-A-G-L-E-S EAGLESfly eagles fly on the road to victory fly eagles fly score a touchdown 1 2 3 hit em low hit em high and watch our eagles fly fly eagles fly score a touchdown 1 2 3 E-A-G-L-E-S EAGLESfly eagles fly on the road to victory fly eagles fly score a touchdown 1 2 3 hit em low hit em high and watch our eagles fly fly eagles fly score a touchdown 1 2 3 E-A-G-L-E-S EAGLESfly eagles fly on the road to victory fly eagles fly score a touchdown 1 2 3 hit em low hit em high and watch our eagles fly fly eagles fly score a touchdown 1 2 3 E-A-G-L-E-S EAGLESfly eagles fly on the road to victory fly eagles fly score a touchdown 1 2 3 hit em low hit em high and watch our eagles fly fly eagles fly score a touchdown 1 2 3 E-A-G-L-E-S EAGLESfly eagles fly on the road to victory fly eagles fly score a touchdown 1 2 3 hit em low hit em high and watch our eagles fly fly eagles fly score a touchdown 1 2 3 E-A-G-L-E-S EAGLESfly eagles fly on the road to victory fly eagles fly score a touchdown 1 2 3 hit em low hit em high and watch our eagles fly fly eagles fly score a touchdown 1 2 3 E-A-G-L-E-S EAGLESfly eagles fly on the road to victory fly eagles fly score a touchdown 1 2 3 hit em low hit em high and watch our eagles fly fly eagles fly score a touchdown 1 2 3 E-A-G-L-E-S EAGLESfly eagles fly on the road to victory fly eagles fly score a touchdown 1 2 3 hit em low hit em high and watch our eagles fly fly eagles fly score a touchdown 1 2 3 E-A-G-L-E-S EAGLESfly eagles fly on the road to victory fly eagles fly score a touchdown 1 2 3 hit em low hit em high and watch our eagles fly fly eagles fly score a touchdown 1 2 3 E-A-G-L-E-S EAGLESfly eagles fly on the road to victory fly eagles fly score a touchdown 1 2 3 hit em low hit em high and watch our eagles fly fly eagles fly score a touchdown 1 2 3 E-A-G-L-E-S EAGLESfly eagles fly on the road to victory fly eagles fly score a touchdown 1 2 3 hit em low hit em high and watch our eagles fly fly eagles fly score a touchdown 1 2 3 E-A-G-L-E-S EAGLESfly eagles fly on the road to victory fly eagles fly score a touchdown 1 2 3 hit em low hit em high and watch our eagles fly fly eagles fly score a touchdown 1 2 3 E-A-G-L-E-S EAGLESfly eagles fly on the road to victory fly eagles fly score a touchdown 1 2 3 hit em low hit em high and watch our eagles fly fly eagles fly score a touchdown 1 2 3 E-A-G-L-E-S EAGLESfly eagles fly on the road to victory fly eagles fly score a touchdown 1 2 3 hit em low hit em high and watch our eagles fly fly eagles fly score a touchdown 1 2 3 E-A-G-L-E-S EAGLESfly eagles fly on the road to victory fly eagles fly score a touchdown 1 2 3 hit em low hit em high and watch our eagles fly fly eagles fly score a touchdown 1 2 3 E-A-G-L-E-S EAGLESfly eagles fly on the road to victory fly eagles fly score a touchdown 1 2 3 hit em low hit em high and watch our eagles fly fly eagles fly score a touchdown 1 2 3 E-A-G-L-E-S EAGLESfly eagles fly on the road to victory fly eagles fly score a touchdown 1 2 3 hit em low hit em high and watch our eagles fly fly eagles fly score a touchdown 1 2 3 E-A-G-L-E-S EAGLESfly eagles fly on the road to victory fly eagles fly score a touchdown 1 2 3 hit em low hit em high and watch our eagles fly fly eagles fly score a touchdown 1 2 3 E-A-G-L-E-S EAGLESfly eagles fly on the road to victory fly eagles fly score a touchdown 1 2 3 hit em low hit em high and watch our eagles fly fly eagles fly score a touchdown 1 2 3 E-A-G-L-E-S EAGLESfly eagles fly on the road to victory fly eagles fly score a touchdown 1 2 3 hit em low hit em high and watch our eagles fly fly eagles fly score a touchdown 1 2 3 E-A-G-L-E-S EAGLESfly eagles fly on the road to victory fly eagles fly score a touchdown 1 2 3 hit em low hit em high and watch our eagles fly fly eagles fly score a touchdown 1 2 3 E-A-G-L-E-S EAGLESfly eagles fly on the road to victory fly eagles fly score a touchdown 1 2 3 hit em low hit em high and watch our eagles fly fly eagles fly score a touchdown 1 2 3 E-A-G-L-E-S EAGLESfly eagles fly on the road to victory fly eagles fly score a touchdown 1 2 3 hit em low hit em high and watch our eagles fly fly eagles fly score a touchdown 1 2 3 E-A-G-L-E-S EAGLESfly eagles fly on the road to victory fly eagles fly score a touchdown 1 2 3 hit em low hit em high and watch our eagles fly fly eagles fly score a touchdown 1 2 3 E-A-G-L-E-S EAGLESfly eagles fly on the road to victory fly eagles fly score a touchdown 1 2 3 hit em low hit em high and watch our eagles fly fly eagles fly score a touchdown 1 2 3 E-A-G-L-E-S EAGLESfly eagles fly on the road to victory fly eagles fly score a touchdown 1 2 3 hit em low hit em high and watch our eagles fly fly eagles fly score a touchdown 1 2 3 E-A-G-L-E-S EAGLESfly eagles fly on the road to victory fly eagles fly score a touchdown 1 2 3 hit em low hit em high and watch our eagles fly fly eagles fly score a touchdown 1 2 3 E-A-G-L-E-S EAGLESfly eagles fly on the road to victory fly eagles fly score a touchdown 1 2 3 hit em low hit em high and watch our eagles fly fly eagles fly score a touchdown 1 2 3 E-A-G-L-E-S EAGLESfly eagles fly on the road to victory fly eagles fly score a touchdown 1 2 3 hit em low hit em high and watch our eagles fly fly eagles fly score a touchdown 1 2 3 E-A-G-L-E-S EAGLESfly eagles fly on the road to victory fly eagles fly score a touchdown 1 2 3 hit em low hit em high and watch our eagles fly fly eagles fly score a touchdown 1 2 3 E-A-G-L-E-S EAGLESfly eagles fly on the road to victory fly eagles fly score a touchdown 1 2 3 hit em low hit em high and watch our eagles fly fly eagles fly score a touchdown 1 2 3 E-A-G-L-E-S EAGLESfly eagles fly on the road to victory fly eagles fly score a touchdown 1 2 3 hit em low hit em high and watch our eagles fly fly eagles fly score a touchdown 1 2 3 E-A-G-L-E-S EAGLESfly eagles fly on the road to victory fly eagles fly score a touchdown 1 2 3 hit em low hit em high and watch our eagles fly fly eagles fly score a touchdown 1 2 3 E-A-G-L-E-S EAGLESfly eagles fly on the road to victory fly eagles fly score a touchdown 1 2 3 hit em low hit em high and watch our eagles fly fly eagles fly score a touchdown 1 2 3 E-A-G-L-E-S EAGLESfly eagles fly on the road to victory fly eagles fly score a touchdown 1 2 3 hit em low hit em high and watch our eagles fly fly eagles fly score a touchdown 1 2 3 E-A-G-L-E-S EAGLESfly eagles fly on the road to victory fly eagles fly score a touchdown 1 2 3 hit em low hit em high and watch our eagles fly fly eagles fly score a touchdown 1 2 3 E-A-G-L-E-S EAGLESfly eagles fly on the road to victory fly eagles fly score a touchdown 1 2 3 hit em low hit em high and watch our eagles fly fly eagles fly score a touchdown 1 2 3 E-A-G-L-E-S EAGLESfly eagles fly on the road to victory fly eagles fly score a touchdown 1 2 3 hit em low hit em high and watch our eagles fly fly eagles fly score a touchdown 1 2 3 E-A-G-L-E-S EAGLESfly eagles fly on the road to victory fly eagles fly score a touchdown 1 2 3 hit em low hit em high and watch our eagles fly fly eagles fly score a touchdown 1 2 3 E-A-G-L-E-S EAGLESfly eagles fly on the road to victory fly eagles fly score a touchdown 1 2 3 hit em low hit em high and watch our eagles fly fly eagles fly score a touchdown 1 2 3 E-A-G-L-E-S EAGLESfly eagles fly on the road to victory fly eagles fly score a touchdown 1 2 3 hit em low hit em high and watch our eagles fly fly eagles fly score a touchdown 1 2 3 E-A-G-L-E-S EAGLESfly eagles fly on the road to victory fly eagles fly score a touchdown 1 2 3 hit em low hit em high and watch our eagles fly fly eagles fly score a touchdown 1 2 3 E-A-G-L-E-S EAGLESfly eagles fly on the road to victory fly eagles fly score a touchdown 1 2 3 hit em low hit em high and watch our eagles fly fly eagles fly score a touchdown 1 2 3 E-A-G-L-E-S EAGLESfly eagles fly on the road to victory fly eagles fly score a touchdown 1 2 3 hit em low hit em high and watch our eagles fly fly eagles fly score a touchdown 1 2 3 E-A-G-L-E-S EAGLESfly eagles fly on the road to victory fly eagles fly score a touchdown 1 2 3 hit em low hit em high and watch our eagles fly fly eagles fly score a touchdown 1 2 3 E-A-G-L-E-S EAGLESfly eagles fly on the road to victory fly eagles fly score a touchdown 1 2 3 hit em low hit em high and watch our eagles fly fly eagles fly score a touchdown 1 2 3 E-A-G-L-E-S EAGLESfly eagles fly on the road to victory fly eagles fly score a touchdown 1 2 3 hit em low hit em high and watch our eagles fly fly eagles fly score a touchdown 1 2 3 E-A-G-L-E-S EAGLESfly eagles fly on the road to victory fly eagles fly score a touchdown 1 2 3 hit em low hit em high and watch our eagles fly fly eagles fly score a touchdown 1 2 3 E-A-G-L-E-S EAGLESfly eagles fly on the road to victory fly eagles fly score a touchdown 1 2 3 hit em low hit em high and watch our eagles fly fly eagles fly score a touchdown 1 2 3 E-A-G-L-E-S EAGLESfly eagles fly on the road to victory fly eagles fly score a touchdown 1 2 3 hit em low hit em high and watch our eagles fly fly eagles fly score a touchdown 1 2 3 E-A-G-L-E-S EAGLESfly eagles fly on the road to victory fly eagles fly score a touchdown 1 2 3 hit em low hit em high and watch our eagles fly fly eagles fly score a touchdown 1 2 3 E-A-G-L-E-S EAGLESfly eagles fly on the road to victory fly eagles fly score a touchdown 1 2 3 hit em low hit em high and watch our eagles fly fly eagles fly score a touchdown 1 2 3 E-A-G-L-E-S EAGLESfly eagles fly on the road to victory fly eagles fly score a touchdown 1 2 3 hit em low hit em high and watch our eagles fly fly eagles fly score a touchdown 1 2 3 E-A-G-L-E-S EAGLESfly eagles fly on the road to victory fly eagles fly score a touchdown 1 2 3 hit em low hit em high and watch our eagles fly fly eagles fly score a touchdown 1 2 3 E-A-G-L-E-S EAGLESfly eagles fly on the road to victory fly eagles fly score a touchdown 1 2 3 hit em low hit em high and watch our eagles fly fly eagles fly score a touchdown 1 2 3 E-A-G-L-E-S EAGLESfly eagles fly on the road to victory fly eagles fly score a touchdown 1 2 3 hit em low hit em high and watch our eagles fly fly eagles fly score a touchdown 1 2 3 E-A-G-L-E-S EAGLESfly eagles fly on the road to victory fly eagles fly score a touchdown 1 2 3 hit em low hit em high and watch our eagles fly fly eagles fly score a touchdown 1 2 3 E-A-G-L-E-S EAGLESfly eagles fly on the road to victory fly eagles fly score a touchdown 1 2 3 hit em low hit em high and watch our eagles fly fly eagles fly score a touchdown 1 2 3 E-A-G-L-E-S EAGLESfly eagles fly on the road to victory fly eagles fly score a touchdown 1 2 3 hit em low hit em high and watch our eagles fly fly eagles fly score a touchdown 1 2 3 E-A-G-L-E-S EAGLESfly eagles fly on the road to victory fly eagles fly score a touchdown 1 2 3 hit em low hit em high and watch our eagles fly fly eagles fly score a touchdown 1 2 3 E-A-G-L-E-S EAGLESfly eagles fly on the road to victory fly eagles fly score a touchdown 1 2 3 hit em low hit em high and watch our eagles fly fly eagles fly score a touchdown 1 2 3 E-A-G-L-E-S EAGLESfly eagles fly on the road to victory fly eagles fly score a touchdown 1 2 3 hit em low hit em high and watch our eagles fly fly eagles fly score a touchdown 1 2 3 E-A-G-L-E-S EAGLESfly eagles fly on the road to victory fly eagles fly score a touchdown 1 2 3 hit em low hit em high and watch our eagles fly fly eagles fly score a touchdown 1 2 3 E-A-G-L-E-S EAGLESfly eagles fly on the road to victory fly eagles fly score a touchdown 1 2 3 hit em low hit em high and watch our eagles fly fly eagles fly score a touchdown 1 2 3 E-A-G-L-E-S EAGLESfly eagles fly on the road to victory fly eagles fly score a touchdown 1 2 3 hit em low hit em high and watch our eagles fly fly eagles fly score a touchdown 1 2 3 E-A-G-L-E-S EAGLESfly eagles fly on the road to victory fly eagles fly score a touchdown 1 2 3 hit em low hit em high and watch our eagles fly fly eagles fly score a touchdown 1 2 3 E-A-G-L-E-S EAGLESfly eagles fly on the road to victory fly eagles fly score a touchdown 1 2 3 hit em low hit em high and watch our eagles fly fly eagles fly score a touchdown 1 2 3 E-A-G-L-E-S EAGLESfly eagles fly on the road to victory fly eagles fly score a touchdown 1 2 3 hit em low hit em high and watch our eagles fly fly eagles fly score a touchdown 1 2 3 E-A-G-L-E-S EAGLESfly eagles fly on the road to victory fly eagles fly score a touchdown 1 2 3 hit em low hit em high and watch our eagles fly fly eagles fly score a touchdown 1 2 3 E-A-G-L-E-S EAGLESfly eagles fly on the road to victory fly eagles fly score a touchdown 1 2 3 hit em low hit em high and watch our eagles fly fly eagles fly score a touchdown 1 2 3 E-A-G-L-E-S EAGLESfly eagles fly on the road to victory fly eagles fly score a touchdown 1 2 3 hit em low hit em high and watch our eagles fly fly eagles fly score a touchdown 1 2 3 E-A-G-L-E-S EAGLESfly eagles fly on the road to victory fly eagles fly score a touchdown 1 2 3 hit em low hit em high and watch our eagles fly fly eagles fly score a touchdown 1 2 3 E-A-G-L-E-S EAGLESfly eagles fly on the road to victory fly eagles fly score a touchdown 1 2 3 hit em low hit em high and watch our eagles fly fly eagles fly score a touchdown 1 2 3 E-A-G-L-E-S EAGLESfly eagles fly on the road to victory fly eagles fly score a touchdown 1 2 3 hit em low hit em high and watch our eagles fly fly eagles fly score a touchdown 1 2 3 E-A-G-L-E-S EAGLESfly eagles fly on the road to victory fly eagles fly score a touchdown 1 2 3 hit em low hit em high and watch our eagles fly fly eagles fly score a touchdown 1 2 3 E-A-G-L-E-S EAGLESfly eagles fly on the road to victory fly eagles fly score a touchdown 1 2 3 hit em low hit em high and watch our eagles fly fly eagles fly score a touchdown 1 2 3 E-A-G-L-E-S EAGLESfly eagles fly on the road to victory fly eagles fly score a touchdown 1 2 3 hit em low hit em high and watch our eagles fly fly eagles fly score a touchdown 1 2 3 E-A-G-L-E-S EAGLESfly eagles fly on the road to victory fly eagles fly score a touchdown 1 2 3 hit em low hit em high and watch our eagles fly fly eagles fly score a touchdown 1 2 3 E-A-G-L-E-S EAGLESfly eagles fly on the road to victory fly eagles fly score a touchdown 1 2 3 hit em low hit em high and watch our eagles fly fly eagles fly score a touchdown 1 2 3 E-A-G-L-E-S EAGLES'"
      ]
     },
     "execution_count": 40,
     "metadata": {},
     "output_type": "execute_result"
    }
   ],
   "source": [
    "z * 100"
   ]
  },
  {
   "cell_type": "code",
   "execution_count": null,
   "id": "b54a9236",
   "metadata": {},
   "outputs": [],
   "source": []
  }
 ],
 "metadata": {
  "kernelspec": {
   "display_name": "Python 3 (ipykernel)",
   "language": "python",
   "name": "python3"
  },
  "language_info": {
   "codemirror_mode": {
    "name": "ipython",
    "version": 3
   },
   "file_extension": ".py",
   "mimetype": "text/x-python",
   "name": "python",
   "nbconvert_exporter": "python",
   "pygments_lexer": "ipython3",
   "version": "3.9.13"
  }
 },
 "nbformat": 4,
 "nbformat_minor": 5
}
