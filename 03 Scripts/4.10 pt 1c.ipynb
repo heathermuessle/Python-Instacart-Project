{
 "cells": [
  {
   "cell_type": "markdown",
   "id": "3fde668f",
   "metadata": {},
   "source": [
    "# Table of contents\n",
    "## Comparing profiles to regions\n",
    "## Final visualizations and other comparisons/analysis from demographics"
   ]
  },
  {
   "cell_type": "markdown",
   "id": "0c0c9aac",
   "metadata": {},
   "source": [
    "# comparing profiles and regions"
   ]
  },
  {
   "cell_type": "code",
   "execution_count": 1,
   "id": "aed5bc4c",
   "metadata": {},
   "outputs": [],
   "source": [
    "import pandas as pd\n",
    "import numpy as np\n",
    "import os\n",
    "import matplotlib.pyplot as plt\n",
    "import seaborn as sns\n",
    "import scipy\n",
    "from scipy import stats"
   ]
  },
  {
   "cell_type": "code",
   "execution_count": 2,
   "id": "43c341a6",
   "metadata": {},
   "outputs": [],
   "source": [
    "path = r'C:\\Users\\Admin\\Documents\\Dec 22 Instacart Analysis'"
   ]
  },
  {
   "cell_type": "code",
   "execution_count": 3,
   "id": "264f60ea",
   "metadata": {},
   "outputs": [],
   "source": [
    "df = pd.read_pickle(os.path.join(path, '02 Data', 'Prepared Data', 'ords_prods_active_profiles.pkl'))"
   ]
  },
  {
   "cell_type": "code",
   "execution_count": 4,
   "id": "a86372c4",
   "metadata": {},
   "outputs": [],
   "source": [
    "pd.options.display.max_columns = None"
   ]
  },
  {
   "cell_type": "code",
   "execution_count": 30,
   "id": "a3ed00bb",
   "metadata": {},
   "outputs": [],
   "source": [
    "df.head(5)"
   ]
  },
  {
   "cell_type": "code",
   "execution_count": 32,
   "id": "83a00426",
   "metadata": {},
   "outputs": [],
   "source": [
    "#trying to pare some of the data down so my computer will stop having so many memory errors\n",
    "for column in df.columns:\n",
    "    if df[column].dtype == 'int64':\n",
    "        df[column] = df[column].astype('int32')"
   ]
  },
  {
   "cell_type": "code",
   "execution_count": 33,
   "id": "8a027b51",
   "metadata": {},
   "outputs": [],
   "source": [
    "for column in df.columns:\n",
    "    if df[column].dtype == 'float64':\n",
    "        df[column] = df[column].astype('float32')"
   ]
  },
  {
   "cell_type": "code",
   "execution_count": 5,
   "id": "986ea0fc",
   "metadata": {},
   "outputs": [],
   "source": [
    "#we already have the huge data set saved; gonna delete columns not needed for this question\n",
    "df = df.drop(columns = ['gender', 'state', 'date_joined', 'n_dependents', 'add_to_cart_order', 'aisle_id', 'active_flag'])"
   ]
  },
  {
   "cell_type": "code",
   "execution_count": 34,
   "id": "614decb1",
   "metadata": {},
   "outputs": [],
   "source": [
    "df.head(5)"
   ]
  },
  {
   "cell_type": "code",
   "execution_count": 6,
   "id": "044e79d4",
   "metadata": {},
   "outputs": [],
   "source": [
    "#I had so many memory issues I don't think this got applied when I saved the pkl in 4.10b, so just going to run it again. I'll set the max to 600 this time though\n",
    "df = df[df['order_cost'] < 600]"
   ]
  },
  {
   "cell_type": "code",
   "execution_count": 36,
   "id": "87c87cce",
   "metadata": {},
   "outputs": [],
   "source": [
    "#now we can make a column that combines profile type and region. We only have 4 regions and 5 profile types, so we can visually compare 20 different categories. If it was like 100 categories we'd have to do something different\n",
    "def areas(row):\n",
    "   return df['region'] + df['customer_profile']"
   ]
  },
  {
   "cell_type": "code",
   "execution_count": 37,
   "id": "aad355d9",
   "metadata": {},
   "outputs": [],
   "source": [
    "df['customer_type'] = df.apply(areas, axis=1)"
   ]
  },
  {
   "cell_type": "code",
   "execution_count": null,
   "id": "2588b69c",
   "metadata": {},
   "outputs": [],
   "source": [
    "#I've tried to get this to run so many times and it just won't work, it causes a memory error every dang time\n",
    "#we're just gonna break off different profile groups and aggregate the data. we only have 5 profile types so it won't be too much of a hassle, but in a real world setting we'd have a more efficient way to do this\n",
    "df_wf = df[df['customer_profile'] == 'Wealthy family']"
   ]
  },
  {
   "cell_type": "code",
   "execution_count": null,
   "id": "4903c137",
   "metadata": {
    "scrolled": true
   },
   "outputs": [],
   "source": [
    "df_wf.groupby('region').agg({'order_cost': ['mean']})"
   ]
  },
  {
   "cell_type": "code",
   "execution_count": null,
   "id": "2de7d7e3",
   "metadata": {
    "scrolled": true
   },
   "outputs": [],
   "source": [
    "df_wf.groupby('region').agg({'order_frequency': ['mean']})"
   ]
  },
  {
   "cell_type": "code",
   "execution_count": 41,
   "id": "413cc422",
   "metadata": {},
   "outputs": [],
   "source": [
    "pd.options.display.max_rows = None"
   ]
  },
  {
   "cell_type": "code",
   "execution_count": null,
   "id": "13b73d2c",
   "metadata": {
    "scrolled": true
   },
   "outputs": [],
   "source": [
    "df_wf.groupby('region').department_id.value_counts()"
   ]
  },
  {
   "cell_type": "code",
   "execution_count": null,
   "id": "3d946472",
   "metadata": {},
   "outputs": [],
   "source": [
    "df_wf.groupby('region').frequency_flag.value_counts()"
   ]
  },
  {
   "cell_type": "code",
   "execution_count": null,
   "id": "9fdc0274",
   "metadata": {
    "scrolled": true
   },
   "outputs": [],
   "source": [
    "df_wf.groupby('region').agg({'avg_spent_per_item': ['mean']})"
   ]
  },
  {
   "cell_type": "markdown",
   "id": "a555e3d8",
   "metadata": {},
   "source": [
    "no differences are found by region in wealthy families in order cost, frequency, or departments shopped in. Bit of a disparity in the amount spent per item, but before you can really get info from that, you have to adjust for price differences around the country (looking at you, California). "
   ]
  },
  {
   "cell_type": "code",
   "execution_count": null,
   "id": "17e40bd9",
   "metadata": {
    "scrolled": true
   },
   "outputs": [],
   "source": [
    "df_wf.groupby('region').marital_status.value_counts()"
   ]
  },
  {
   "cell_type": "markdown",
   "id": "8e15d535",
   "metadata": {},
   "source": [
    "so all users in wealthy families are either married or still living at home. interesting!"
   ]
  },
  {
   "cell_type": "code",
   "execution_count": 46,
   "id": "0784bdfe",
   "metadata": {},
   "outputs": [],
   "source": [
    "#cleared all outputs from the wealthy family subset to free up memory, let's look at the next group\n",
    "df_sc = df[df['customer_profile'] == 'Senior citizen']"
   ]
  },
  {
   "cell_type": "code",
   "execution_count": null,
   "id": "3f059378",
   "metadata": {
    "scrolled": true
   },
   "outputs": [],
   "source": [
    "df_sc.groupby('region').agg({'order_cost': ['mean']})"
   ]
  },
  {
   "cell_type": "code",
   "execution_count": null,
   "id": "3e783933",
   "metadata": {},
   "outputs": [],
   "source": [
    "df_sc.groupby('region').agg({'order_frequency': ['mean']})"
   ]
  },
  {
   "cell_type": "code",
   "execution_count": null,
   "id": "a2f33c87",
   "metadata": {},
   "outputs": [],
   "source": [
    "df_sc.groupby('region').frequency_flag.value_counts()"
   ]
  },
  {
   "cell_type": "code",
   "execution_count": null,
   "id": "6c105c89",
   "metadata": {},
   "outputs": [],
   "source": [
    "df_sc.groupby('region').department_id.value_counts()"
   ]
  },
  {
   "cell_type": "code",
   "execution_count": null,
   "id": "e9efcb17",
   "metadata": {
    "scrolled": true
   },
   "outputs": [],
   "source": [
    "df_sc.groupby('region').agg({'avg_spent_per_item': ['mean']})"
   ]
  },
  {
   "cell_type": "markdown",
   "id": "0c14ce3a",
   "metadata": {},
   "source": [
    "so the senior citizens category doesn't seem to differ much by region either. Hell they don't seem to differ from the wealthy family category in anything besides average spent per item."
   ]
  },
  {
   "cell_type": "code",
   "execution_count": 55,
   "id": "bddcf963",
   "metadata": {},
   "outputs": [],
   "source": [
    "#cleared all senior citizen outputs\n",
    "df_lif = df[df['customer_profile'] == 'Low income family']"
   ]
  },
  {
   "cell_type": "code",
   "execution_count": null,
   "id": "224094ab",
   "metadata": {
    "scrolled": true
   },
   "outputs": [],
   "source": [
    "df_lif.groupby('region').agg({'order_cost': ['mean']})"
   ]
  },
  {
   "cell_type": "code",
   "execution_count": null,
   "id": "7c71a788",
   "metadata": {},
   "outputs": [],
   "source": [
    "df_lif.groupby('region').agg({'order_frequency': ['mean']})"
   ]
  },
  {
   "cell_type": "code",
   "execution_count": null,
   "id": "ada2dc24",
   "metadata": {},
   "outputs": [],
   "source": [
    "df_lif.groupby('region').frequency_flag.value_counts()"
   ]
  },
  {
   "cell_type": "code",
   "execution_count": null,
   "id": "3c1ce4f5",
   "metadata": {},
   "outputs": [],
   "source": [
    "df_lif.groupby('region').department_id.value_counts()"
   ]
  },
  {
   "cell_type": "code",
   "execution_count": null,
   "id": "66a844df",
   "metadata": {},
   "outputs": [],
   "source": [
    "df_lif.groupby('region').agg({'avg_spent_per_item': ['mean']})"
   ]
  },
  {
   "cell_type": "markdown",
   "id": "05d4b59f",
   "metadata": {},
   "source": [
    "so yet again, we're seeing no significant differences between regions, this time, not even when it comes to average spent per item. The only disparity we've managed to tease out so far is that wealthy families tend to spend a lot per item, senior citizens a moderate amount, and low income families the lowest amount. Based on everything we've seen so far, I'm inclined to tell the marketing team that region does not matter and departments shopped in look the same for pretty much everyone. If I had to make a recommendation, I'd say making arbitrary profiles, even if they're reasonable guesses like wealthy families having x criteria, isn't going to lead us to good results. We went top down when maybe we should have gone bottom up and looked at each piece separately -- how # of dependents affects things, how age affects things, how income affects things, etc. -- then gone from there. Based on what we have now, though, I think the best thing the marketing team can do is push pricey items to wealthy families (treat yourself!), lower cost items to low income families (big savings! bargain deals!), and so on. "
   ]
  },
  {
   "cell_type": "markdown",
   "id": "ca404d40",
   "metadata": {},
   "source": [
    "# final visualizations"
   ]
  },
  {
   "cell_type": "code",
   "execution_count": null,
   "id": "641cc447",
   "metadata": {},
   "outputs": [],
   "source": [
    "bar = df.groupby('customer_profile').agg({'avg_spent_per_item': ['mean']}).plot.bar()"
   ]
  },
  {
   "cell_type": "code",
   "execution_count": 50,
   "id": "77d9d4f7",
   "metadata": {},
   "outputs": [],
   "source": [
    "bar.figure.savefig(os.path.join(path, '04 Analysis','Visualizations', 'bar_demographic_avg_item.png'))"
   ]
  },
  {
   "cell_type": "markdown",
   "id": "8e6fdcb2",
   "metadata": {},
   "source": [
    "I'd like the formatting to be a bit better, but you can see the differences in average spent per item based on what profile the customer falls into. I think that's useful information!"
   ]
  },
  {
   "cell_type": "code",
   "execution_count": null,
   "id": "41f59b3c",
   "metadata": {
    "scrolled": true
   },
   "outputs": [],
   "source": [
    "df['department_id'].value_counts().plot.bar()"
   ]
  },
  {
   "cell_type": "code",
   "execution_count": null,
   "id": "a9f8d456",
   "metadata": {
    "scrolled": true
   },
   "outputs": [],
   "source": [
    "df_wf['department_id'].value_counts().plot.bar()"
   ]
  },
  {
   "cell_type": "code",
   "execution_count": null,
   "id": "81f7289d",
   "metadata": {
    "scrolled": true
   },
   "outputs": [],
   "source": [
    "df_lif['department_id'].value_counts().plot.bar()"
   ]
  },
  {
   "cell_type": "markdown",
   "id": "c5d5c601",
   "metadata": {},
   "source": [
    "I wish we had a way to stack these charts on top of each other (I miss Tableau), but from a glance you can see how the profiles don't really affect department ID frequency. There's a few differences here and there, but in the grand scheme of things these charts all look pretty similar.  "
   ]
  },
  {
   "cell_type": "code",
   "execution_count": null,
   "id": "ce84516a",
   "metadata": {
    "scrolled": true
   },
   "outputs": [],
   "source": [
    "bar = df.groupby('region').agg({'order_cost': ['mean']}).plot.bar()"
   ]
  },
  {
   "cell_type": "code",
   "execution_count": 28,
   "id": "265a902e",
   "metadata": {},
   "outputs": [],
   "source": [
    "bar.figure.savefig(os.path.join(path, '04 Analysis','Visualizations', 'bar_region_cost.png'))"
   ]
  },
  {
   "cell_type": "markdown",
   "id": "7dee1147",
   "metadata": {},
   "source": [
    "And one more just to show how region doesn't impact what people are spending. We could theoretically make these charts for every single variable, like frequency or avg per item (and if we could stack charts we could more visually see department ID counts,but if you try it here it looks like a mess), but as is you can get the gist.  "
   ]
  },
  {
   "cell_type": "code",
   "execution_count": null,
   "id": "0b9d466f",
   "metadata": {
    "scrolled": true
   },
   "outputs": [],
   "source": [
    "bar = df.groupby('region').agg({'avg_spent_per_item': ['mean']}).plot.bar()"
   ]
  },
  {
   "cell_type": "code",
   "execution_count": 30,
   "id": "ece2c791",
   "metadata": {},
   "outputs": [],
   "source": [
    "bar.figure.savefig(os.path.join(path, '04 Analysis','Visualizations', 'bar_region_item.png'))"
   ]
  },
  {
   "cell_type": "code",
   "execution_count": 23,
   "id": "69f64528",
   "metadata": {},
   "outputs": [],
   "source": [
    "#I bet we can find where the most loyal customers live though. We start by making a subset with only loyal customers\n",
    "dfl = df[df['loyalty_flag'] == 'Loyal customer']"
   ]
  },
  {
   "cell_type": "code",
   "execution_count": 28,
   "id": "9e0bbe62",
   "metadata": {},
   "outputs": [],
   "source": [
    "#Now we show only user ID and region\n",
    "dflr = dfl[['user_id', 'region', 'generation']]"
   ]
  },
  {
   "cell_type": "code",
   "execution_count": 29,
   "id": "62428e58",
   "metadata": {},
   "outputs": [],
   "source": [
    "#Removing the duplicates gives us a list of individual users and what regions they live in\n",
    "dflr = dfl.drop_duplicates()"
   ]
  },
  {
   "cell_type": "code",
   "execution_count": null,
   "id": "3d57b547",
   "metadata": {
    "scrolled": true
   },
   "outputs": [],
   "source": [
    "bar = dflr['region'].value_counts().plot.bar()"
   ]
  },
  {
   "cell_type": "markdown",
   "id": "78558b9f",
   "metadata": {},
   "source": [
    "Most of our loyal customers live in the south!"
   ]
  },
  {
   "cell_type": "code",
   "execution_count": 20,
   "id": "0bfc9c63",
   "metadata": {},
   "outputs": [],
   "source": [
    "bar.figure.savefig(os.path.join(path, '04 Analysis','Visualizations', 'bar_loyalty_flag_region.png'))"
   ]
  },
  {
   "cell_type": "code",
   "execution_count": 9,
   "id": "e5f8555f",
   "metadata": {},
   "outputs": [],
   "source": [
    "#We already saw that the profiles we made didn't affect departments shopped in, so let's try to break it down a bit more. we can try age first\n",
    "#we should start with a for loop that breaks it down by generation. It'll make things way easier\n",
    "result = []\n",
    "\n",
    "for value in df['age']:\n",
    "  if value >= 18 and value < 27:\n",
    "    result.append(\"GenZ\")\n",
    "  elif value >= 27 and value < 46:\n",
    "    result.append(\"Millenial\")\n",
    "  elif value >= 46 and value < 58:\n",
    "    result.append(\"GenX\")\n",
    "  else:\n",
    "    result.append(\"Boomer\")"
   ]
  },
  {
   "cell_type": "code",
   "execution_count": 10,
   "id": "b9ac2160",
   "metadata": {},
   "outputs": [],
   "source": [
    "df['generation'] = result"
   ]
  },
  {
   "cell_type": "code",
   "execution_count": 40,
   "id": "407dba61",
   "metadata": {},
   "outputs": [
    {
     "data": {
      "text/plain": [
       "Boomer       11504306\n",
       "Millenial     9187503\n",
       "GenX          5846714\n",
       "GenZ          4342444\n",
       "Name: generation, dtype: int64"
      ]
     },
     "execution_count": 40,
     "metadata": {},
     "output_type": "execute_result"
    }
   ],
   "source": [
    "df['generation'].value_counts()"
   ]
  },
  {
   "cell_type": "code",
   "execution_count": null,
   "id": "7906be9e",
   "metadata": {
    "scrolled": true
   },
   "outputs": [],
   "source": [
    "bar = df.groupby('generation').agg({'max_order': ['mean']}).plot.bar()"
   ]
  },
  {
   "cell_type": "markdown",
   "id": "27a4e876",
   "metadata": {},
   "source": [
    "I tried a lot of values and can't seem to find a difference based on ages"
   ]
  },
  {
   "cell_type": "code",
   "execution_count": 9,
   "id": "2757179a",
   "metadata": {},
   "outputs": [],
   "source": [
    "#let's get a list of all orders, then find age vs order cost\n",
    "#we start by returning only the columns we want to use\n",
    "df2 = df[['order_id', 'order_cost', 'age']]"
   ]
  },
  {
   "cell_type": "code",
   "execution_count": 10,
   "id": "ceecebcf",
   "metadata": {},
   "outputs": [],
   "source": [
    "#then we remove duplicates so we have each order ID listed only once. It's more accurate to look at the metrics for one order vs looking at each individual item in that order.\n",
    "df2 = df2.drop_duplicates()"
   ]
  },
  {
   "cell_type": "code",
   "execution_count": null,
   "id": "7e8d11e8",
   "metadata": {
    "scrolled": false
   },
   "outputs": [],
   "source": [
    "plot = sns.scatterplot(x = 'age', y = 'order_cost',data = df2)"
   ]
  },
  {
   "cell_type": "markdown",
   "id": "5f3082fa",
   "metadata": {},
   "source": [
    "This is not a very helpful chart lol"
   ]
  },
  {
   "cell_type": "markdown",
   "id": "71aaa9ea",
   "metadata": {},
   "source": [
    "But I bet we can narrow it down to the most expensive orders, we might see a correlation there"
   ]
  },
  {
   "cell_type": "code",
   "execution_count": 12,
   "id": "c4a60340",
   "metadata": {},
   "outputs": [],
   "source": [
    "df2 = df2[df2['order_cost'] >= 450]"
   ]
  },
  {
   "cell_type": "code",
   "execution_count": null,
   "id": "c709b171",
   "metadata": {},
   "outputs": [],
   "source": [
    "#I looked up how to add a trendline\n",
    "plot = sns.regplot(x = \"age\",\n",
    "            y = \"order_cost\", \n",
    "            ci = None,\n",
    "            data = df2)"
   ]
  },
  {
   "cell_type": "code",
   "execution_count": 15,
   "id": "55fc99a2",
   "metadata": {},
   "outputs": [],
   "source": [
    "plot.figure.savefig(os.path.join(path, '04 Analysis','Visualizations', 'scatter_age_order_cost.png'))"
   ]
  },
  {
   "cell_type": "code",
   "execution_count": 30,
   "id": "cdb08be6",
   "metadata": {},
   "outputs": [
    {
     "data": {
      "image/png": "[encoded data removed]",
      "text/plain": [
       "<Figure size 640x480 with 1 Axes>"
      ]
     },
     "metadata": {},
     "output_type": "display_data"
    }
   ],
   "source": [
    "#reran making the loyalty customers only subset so it includes the generations\n",
    "bar = dflr['generation'].value_counts().plot.bar()"
   ]
  },
  {
   "cell_type": "code",
   "execution_count": 31,
   "id": "31aa3de1",
   "metadata": {},
   "outputs": [],
   "source": [
    "bar.figure.savefig(os.path.join(path, '04 Analysis','Visualizations', 'bar_age_loyalty.png'))"
   ]
  },
  {
   "cell_type": "code",
   "execution_count": null,
   "id": "d5189b0f",
   "metadata": {},
   "outputs": [],
   "source": [
    "#The next few rows split the data into older and younger generations and compared their departments most often shopped in\n",
    "dfo = df[df['age'] > 45]"
   ]
  },
  {
   "cell_type": "code",
   "execution_count": null,
   "id": "99e3eeae",
   "metadata": {},
   "outputs": [],
   "source": [
    "bar = dfo['department_id'].value_counts().plot.bar()"
   ]
  },
  {
   "cell_type": "code",
   "execution_count": 40,
   "id": "898e1f92",
   "metadata": {},
   "outputs": [],
   "source": [
    "bar.figure.savefig(os.path.join(path, '04 Analysis','Visualizations', 'departments_boomer_genx.png'))"
   ]
  },
  {
   "cell_type": "code",
   "execution_count": null,
   "id": "a8269dc6",
   "metadata": {},
   "outputs": [],
   "source": [
    "dfy = df[df['age'] < 46]"
   ]
  },
  {
   "cell_type": "code",
   "execution_count": null,
   "id": "38c4fdf8",
   "metadata": {},
   "outputs": [],
   "source": [
    "bar = dfy['department_id'].value_counts().plot.bar()"
   ]
  },
  {
   "cell_type": "code",
   "execution_count": 43,
   "id": "bf7bc8b7",
   "metadata": {},
   "outputs": [],
   "source": [
    "bar.figure.savefig(os.path.join(path, '04 Analysis','Visualizations', 'departments_millenial_genz.png'))"
   ]
  },
  {
   "cell_type": "code",
   "execution_count": 11,
   "id": "ad0dd974",
   "metadata": {},
   "outputs": [],
   "source": [
    "dfr = df[df['reordered'] == 1]"
   ]
  },
  {
   "cell_type": "code",
   "execution_count": 13,
   "id": "e7009782",
   "metadata": {},
   "outputs": [
    {
     "data": {
      "text/plain": [
       "Boomer       6985910\n",
       "Millenial    5589685\n",
       "GenX         3550567\n",
       "GenZ         2641520\n",
       "Name: generation, dtype: int64"
      ]
     },
     "execution_count": 13,
     "metadata": {},
     "output_type": "execute_result"
    }
   ],
   "source": [
    "dfr['generation'].value_counts()"
   ]
  },
  {
   "cell_type": "code",
   "execution_count": null,
   "id": "d592e308",
   "metadata": {},
   "outputs": [],
   "source": []
  }
 ],
 "metadata": {
  "kernelspec": {
   "display_name": "Python 3 (ipykernel)",
   "language": "python",
   "name": "python3"
  },
  "language_info": {
   "codemirror_mode": {
    "name": "ipython",
    "version": 3
   },
   "file_extension": ".py",
   "mimetype": "text/x-python",
   "name": "python",
   "nbconvert_exporter": "python",
   "pygments_lexer": "ipython3",
   "version": "3.9.13"
  }
 },
 "nbformat": 4,
 "nbformat_minor": 5
}
