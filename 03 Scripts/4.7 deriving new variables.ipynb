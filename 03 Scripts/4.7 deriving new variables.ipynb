{
 "cells": [
  {
   "cell_type": "markdown",
   "id": "1b1a485e",
   "metadata": {},
   "source": [
    "# the exercise"
   ]
  },
  {
   "cell_type": "code",
   "execution_count": 1,
   "id": "cca665e2",
   "metadata": {},
   "outputs": [],
   "source": [
    "#importing our stuff\n",
    "import pandas as pd\n",
    "import numpy as np\n",
    "import os"
   ]
  },
  {
   "cell_type": "code",
   "execution_count": 2,
   "id": "39b4fc51",
   "metadata": {},
   "outputs": [],
   "source": [
    "#making the path so it's easy to import\n",
    "path = r'C:\\Users\\Admin\\Documents\\Dec 22 Instacart Analysis'"
   ]
  },
  {
   "cell_type": "code",
   "execution_count": 3,
   "id": "9da88559",
   "metadata": {},
   "outputs": [],
   "source": [
    "#getting our dataframe\n",
    "df_ords_prods_merged = pd.read_pickle(os.path.join(path, '02 Data', 'Prepared Data', 'orders_products_merged.pkl'))"
   ]
  },
  {
   "cell_type": "code",
   "execution_count": 4,
   "id": "dc68eb6a",
   "metadata": {},
   "outputs": [],
   "source": [
    "#making it smaller so things don't crash\n",
    "df = df_ords_prods_merged[:1000000]"
   ]
  },
  {
   "cell_type": "code",
   "execution_count": 5,
   "id": "3c49bfed",
   "metadata": {},
   "outputs": [],
   "source": [
    "#creating our function\n",
    "def price_label(row):\n",
    "\n",
    "  if row['prices'] <= 5:\n",
    "    return 'Low-range product'\n",
    "  elif (row['prices'] > 5) and (row['prices'] <= 15):\n",
    "    return 'Mid-range product'\n",
    "  elif row['prices'] > 15:\n",
    "    return 'High range'\n",
    "  else: return 'Not enough data'"
   ]
  },
  {
   "cell_type": "code",
   "execution_count": 6,
   "id": "ff96cfed",
   "metadata": {
    "scrolled": true
   },
   "outputs": [
    {
     "name": "stderr",
     "output_type": "stream",
     "text": [
      "C:\\Users\\Admin\\AppData\\Local\\Temp\\ipykernel_5736\\3030442468.py:2: SettingWithCopyWarning: \n",
      "A value is trying to be set on a copy of a slice from a DataFrame.\n",
      "Try using .loc[row_indexer,col_indexer] = value instead\n",
      "\n",
      "See the caveats in the documentation: https://pandas.pydata.org/pandas-docs/stable/user_guide/indexing.html#returning-a-view-versus-a-copy\n",
      "  df['price_range'] = df.apply(price_label, axis = 1)\n"
     ]
    }
   ],
   "source": [
    "#executing it\n",
    "df['price_range'] = df.apply(price_label, axis = 1)"
   ]
  },
  {
   "cell_type": "code",
   "execution_count": 7,
   "id": "4a246762",
   "metadata": {},
   "outputs": [
    {
     "data": {
      "text/plain": [
       "Mid-range product    756450\n",
       "Low-range product    243550\n",
       "Name: price_range, dtype: int64"
      ]
     },
     "execution_count": 7,
     "metadata": {},
     "output_type": "execute_result"
    }
   ],
   "source": [
    "#getting the counts of the price range column\n",
    "df['price_range'].value_counts(dropna = False)"
   ]
  },
  {
   "cell_type": "code",
   "execution_count": 8,
   "id": "e3395109",
   "metadata": {},
   "outputs": [
    {
     "name": "stderr",
     "output_type": "stream",
     "text": [
      "C:\\Users\\Admin\\AppData\\Local\\Temp\\ipykernel_5736\\3456160314.py:2: SettingWithCopyWarning: \n",
      "A value is trying to be set on a copy of a slice from a DataFrame.\n",
      "Try using .loc[row_indexer,col_indexer] = value instead\n",
      "\n",
      "See the caveats in the documentation: https://pandas.pydata.org/pandas-docs/stable/user_guide/indexing.html#returning-a-view-versus-a-copy\n",
      "  df.loc[df['prices'] > 15, 'price_range_loc'] = 'High-range product'\n"
     ]
    }
   ],
   "source": [
    "#using the loc function\n",
    "df.loc[df['prices'] > 15, 'price_range_loc'] = 'High-range product'"
   ]
  },
  {
   "cell_type": "code",
   "execution_count": 15,
   "id": "e1bc2fe4",
   "metadata": {},
   "outputs": [],
   "source": [
    "df.loc[(df['prices'] <= 15) & (df['prices'] > 5), 'price_range_loc'] = 'Mid-range product' "
   ]
  },
  {
   "cell_type": "code",
   "execution_count": 10,
   "id": "e802f768",
   "metadata": {},
   "outputs": [],
   "source": [
    "df.loc[df['prices'] <= 5, 'price_range_loc'] = 'Low-range product'"
   ]
  },
  {
   "cell_type": "markdown",
   "id": "ffeeb1d4",
   "metadata": {},
   "source": [
    "putting the first line of code returns the same \"error\" as the last strategy we used, but then the next two lines work and if you re reun the first line it works just fine. why is that? "
   ]
  },
  {
   "cell_type": "code",
   "execution_count": 11,
   "id": "71a063e6",
   "metadata": {},
   "outputs": [],
   "source": [
    "#using the loc function on entire data set\n",
    "df_ords_prods_merged.loc[df_ords_prods_merged['prices'] > 15, 'price_range_loc'] = 'High-range product'"
   ]
  },
  {
   "cell_type": "code",
   "execution_count": 18,
   "id": "5bd52aaf",
   "metadata": {},
   "outputs": [],
   "source": [
    "df_ords_prods_merged.loc[(df_ords_prods_merged['prices'] <= 15) & (df_ords_prods_merged['prices'] > 5), 'price_range_loc'] = 'Mid-range product' "
   ]
  },
  {
   "cell_type": "code",
   "execution_count": 13,
   "id": "af2a4324",
   "metadata": {},
   "outputs": [],
   "source": [
    "df_ords_prods_merged.loc[df_ords_prods_merged['prices'] <= 5, 'price_range_loc'] = 'Low-range product'"
   ]
  },
  {
   "cell_type": "code",
   "execution_count": 19,
   "id": "0f540fff",
   "metadata": {},
   "outputs": [
    {
     "data": {
      "text/plain": [
       "Mid-range product     21860860\n",
       "Low-range product     10126321\n",
       "High-range product      417678\n",
       "Name: price_range_loc, dtype: int64"
      ]
     },
     "execution_count": 19,
     "metadata": {},
     "output_type": "execute_result"
    }
   ],
   "source": [
    "#looking at counts for whole data set\n",
    "df_ords_prods_merged['price_range_loc'].value_counts(dropna = False)"
   ]
  },
  {
   "cell_type": "code",
   "execution_count": 20,
   "id": "40d0c14c",
   "metadata": {},
   "outputs": [
    {
     "data": {
      "text/plain": [
       "0    6204182\n",
       "1    5660230\n",
       "6    4496490\n",
       "2    4213830\n",
       "5    4205791\n",
       "3    3840534\n",
       "4    3783802\n",
       "Name: orders_day_of_week, dtype: int64"
      ]
     },
     "execution_count": 20,
     "metadata": {},
     "output_type": "execute_result"
    }
   ],
   "source": [
    "#moving on, finding busiest days of the week\n",
    "df_ords_prods_merged['orders_day_of_week'].value_counts(dropna = False)"
   ]
  },
  {
   "cell_type": "code",
   "execution_count": null,
   "id": "9afb6e78",
   "metadata": {},
   "outputs": [],
   "source": [
    "#creating the for loop\n",
    "result = []\n",
    "\n",
    "for value in df_ords_prods_merged[\"orders_day_of_week\"]:\n",
    "  if value == 0:\n",
    "    result.append(\"Busiest day\")\n",
    "  elif value == 4:\n",
    "    result.append(\"Least busy\")\n",
    "  else:\n",
    "    result.append(\"Regularly busy\")"
   ]
  },
  {
   "cell_type": "code",
   "execution_count": null,
   "id": "b3542612",
   "metadata": {},
   "outputs": [],
   "source": [
    "#adding our list to our dataframe\n",
    "df_ords_prods_merged['busiest_day'] = result"
   ]
  },
  {
   "cell_type": "markdown",
   "id": "40d93333",
   "metadata": {},
   "source": [
    "# onto the task"
   ]
  },
  {
   "cell_type": "markdown",
   "id": "175b0ecd",
   "metadata": {},
   "source": [
    "## pt 1"
   ]
  },
  {
   "cell_type": "code",
   "execution_count": null,
   "id": "753f03e0",
   "metadata": {},
   "outputs": [],
   "source": [
    "#we can delete the result column we did in the exercise portion because it's not relevant any more\n",
    "df_ords_prods_merged = df_ords_prods_merged.drop(columns = ['busiest_day'])"
   ]
  },
  {
   "cell_type": "code",
   "execution_count": null,
   "id": "838cf0a3",
   "metadata": {},
   "outputs": [],
   "source": [
    "#now we just use the same for loop we did before, but using Sat and Sun for the busiest and Tues and Wed for the slowest\n",
    "result = []\n",
    "\n",
    "for value in df_ords_prods_merged[\"orders_day_of_week\"]:\n",
    "  if value == 0 or value == 1:\n",
    "    result.append(\"Busiest days\")\n",
    "  elif value == 4 or value == 3:\n",
    "    result.append(\"Least busy days\")\n",
    "  else:\n",
    "    result.append(\"Regularly busy\")"
   ]
  },
  {
   "cell_type": "code",
   "execution_count": null,
   "id": "987ae521",
   "metadata": {},
   "outputs": [],
   "source": [
    "#and now we assign it to the dataframe\n",
    "df_ords_prods_merged['busiest_days'] = result"
   ]
  },
  {
   "cell_type": "code",
   "execution_count": null,
   "id": "a1f3c4fb",
   "metadata": {},
   "outputs": [],
   "source": [
    "#let's see how the value count compares\n",
    "df_ords_prods_merged['busiest_days'].value_counts(dropna = False)"
   ]
  },
  {
   "cell_type": "markdown",
   "id": "ff3d3d3f",
   "metadata": {},
   "source": [
    "it looks like everything adds up. nice!"
   ]
  },
  {
   "cell_type": "markdown",
   "id": "3ab24e46",
   "metadata": {},
   "source": [
    "## pt 2"
   ]
  },
  {
   "cell_type": "markdown",
   "id": "54afd2aa",
   "metadata": {},
   "source": [
    "we should be able to do this pretty much the same way we did part 1"
   ]
  },
  {
   "cell_type": "code",
   "execution_count": null,
   "id": "97836772",
   "metadata": {},
   "outputs": [],
   "source": [
    "#before we decide how to divide things up, we gotta see when the busiest times actually are\n",
    "df_ords_prods_merged['order_hour_of_day'].value_counts(dropna = False)"
   ]
  },
  {
   "cell_type": "markdown",
   "id": "f89ff5ee",
   "metadata": {},
   "source": [
    "since we're talking about an app issue, we want to play it safe and make the busiest days category pretty big. The first significant gap between columns comes between rows 8 and 9, so we'll call the busiest days the top 8 values. another significant gap comes between the 5th and 4th smallest rows so we'll call the values below that gap the least busy hours"
   ]
  },
  {
   "cell_type": "code",
   "execution_count": null,
   "id": "c8903f1d",
   "metadata": {},
   "outputs": [],
   "source": [
    "#making the loop. gotta name the list something new of course.\n",
    "outcome = []\n",
    "\n",
    "for x in df_ords_prods_merged['order_hour_of_day']:\n",
    "  if x == 10 or x == 11 or x == 14 or x == 15 or x == 13 or x == 12:\n",
    "    outcome.append(\"Most orders\")\n",
    "  elif x == 3 or x == 4 or x == 2 or x == 5:\n",
    "    outcome.append(\"Fewest orders\")\n",
    "  else:\n",
    "    outcome.append(\"Average orders\")"
   ]
  },
  {
   "cell_type": "code",
   "execution_count": null,
   "id": "c5a213ab",
   "metadata": {},
   "outputs": [],
   "source": [
    "#now we add this to the main dataframe\n",
    "df_ords_prods_merged['busiest_period_of_day'] = outcome"
   ]
  },
  {
   "cell_type": "code",
   "execution_count": null,
   "id": "15f519e9",
   "metadata": {},
   "outputs": [],
   "source": [
    "#lets see what's up!\n",
    "df_ords_prods_merged['busiest_period_of_day'].value_counts(dropna = False)"
   ]
  },
  {
   "cell_type": "markdown",
   "id": "75c6c59e",
   "metadata": {},
   "source": [
    "success!"
   ]
  },
  {
   "cell_type": "code",
   "execution_count": null,
   "id": "ef210d01",
   "metadata": {},
   "outputs": [],
   "source": [
    "df_ords_prods_merged.to_pickle(os.path.join(path, '02 Data','Prepared Data', 'ords_prods_merged.pkl'))"
   ]
  },
  {
   "cell_type": "code",
   "execution_count": null,
   "id": "c427f474",
   "metadata": {},
   "outputs": [],
   "source": []
  }
 ],
 "metadata": {
  "kernelspec": {
   "display_name": "Python 3 (ipykernel)",
   "language": "python",
   "name": "python3"
  },
  "language_info": {
   "codemirror_mode": {
    "name": "ipython",
    "version": 3
   },
   "file_extension": ".py",
   "mimetype": "text/x-python",
   "name": "python",
   "nbconvert_exporter": "python",
   "pygments_lexer": "ipython3",
   "version": "3.9.13"
  }
 },
 "nbformat": 4,
 "nbformat_minor": 5
}
